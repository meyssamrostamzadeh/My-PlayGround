{
  "cells": [
    {
      "cell_type": "code",
      "execution_count": null,
      "metadata": {
        "id": "MTqSGLaPu_yE"
      },
      "outputs": [],
      "source": [
        "# test\n",
        "import pandas as pd"
      ]
    },
    {
      "cell_type": "code",
      "execution_count": null,
      "metadata": {
        "id": "Uc2lQT07u_yX"
      },
      "outputs": [],
      "source": [
        "pd.DataFrame({'Yes': [50, 21], 'No': [131, 2]})"
      ]
    },
    {
      "cell_type": "code",
      "execution_count": null,
      "metadata": {
        "id": "DFZQLRlgu_yd"
      },
      "outputs": [],
      "source": [
        "pd.DataFrame({'Bob': ['I liked it.', 'It was awful.'],\n",
        "              'Sue': ['Pretty good.', 'Bland.']},\n",
        "             index=['Product A', 'Product B'])"
      ]
    },
    {
      "cell_type": "code",
      "execution_count": null,
      "metadata": {
        "id": "Usc2rjIlu_yh"
      },
      "outputs": [],
      "source": [
        "pd.Series([30, 35, 40], index=['2015 Sales', '2016 Sales', '2017 Sales'], name='Product A')"
      ]
    },
    {
      "cell_type": "code",
      "execution_count": null,
      "metadata": {
        "id": "CJ1yNfT8u_yk"
      },
      "outputs": [],
      "source": [
        "# wine_reviews = pd.read_csv(\"../input/wine-reviews/winemag-data-130k-v2.csv\", index_col=0)\n",
        "# wine_reviews = pd.read_csv(\"../input/wine-reviews/winemag-data-130k-v2.csv\")\n",
        "reviews = pd.read_csv(\"../input/wine-reviews/winemag-data-130k-v2.csv\", index_col=0)"
      ]
    },
    {
      "cell_type": "code",
      "execution_count": null,
      "metadata": {
        "id": "ptC-_fiNu_ym"
      },
      "outputs": [],
      "source": [
        "reviews.country\n",
        "reviews['country']\n",
        "reviews['country'][0]\n",
        "reviews.iloc[0]"
      ]
    },
    {
      "cell_type": "code",
      "execution_count": null,
      "metadata": {
        "id": "GoDtfusiu_yo"
      },
      "outputs": [],
      "source": [
        "reviews.iloc[:, 0]\n",
        "reviews.iloc[:3, 0]\n",
        "reviews.iloc[1:3, 0]\n",
        "reviews.iloc[[0, 1, 2], 0]\n",
        "reviews.iloc[-5:]"
      ]
    },
    {
      "cell_type": "code",
      "execution_count": null,
      "metadata": {
        "id": "c4DnH930u_yr"
      },
      "outputs": [],
      "source": [
        "reviews.loc[0, 'country']\n",
        "reviews.loc[:, ['taster_name', 'taster_twitter_handle', 'points']]\n"
      ]
    },
    {
      "cell_type": "markdown",
      "metadata": {
        "id": "6YmBx72Ou_yu"
      },
      "source": [
        "Choosing between loc and iloc¶\n",
        "When choosing or transitioning between loc and iloc, there is one \"gotcha\" worth keeping in mind, which is that the two methods use slightly different indexing schemes.\n",
        "\n",
        "iloc uses the Python stdlib indexing scheme, where the first element of the range is included and the last one excluded. So 0:10 will select entries 0,...,9. loc, meanwhile, indexes inclusively. So 0:10 will select entries 0,...,10.\n",
        "\n",
        "Why the change? Remember that loc can index any stdlib type: strings, for example. If we have a DataFrame with index values Apples, ..., Potatoes, ..., and we want to select \"all the alphabetical fruit choices between Apples and Potatoes\", then it's a lot more convenient to index df.loc['Apples':'Potatoes'] than it is to index something like df.loc['Apples', 'Potatoet'] (t coming after s in the alphabet).\n",
        "\n",
        "This is particularly confusing when the DataFrame index is a simple numerical list, e.g. 0,...,1000. In this case df.iloc[0:1000] will return 1000 entries, while df.loc[0:1000] return 1001 of them! To get 1000 elements using loc, you will need to go one lower and ask for df.loc[0:999].\n",
        "\n",
        "Otherwise, the semantics of using loc are the same as those for iloc."
      ]
    },
    {
      "cell_type": "code",
      "execution_count": null,
      "metadata": {
        "id": "yqMGmDwHu_y9"
      },
      "outputs": [],
      "source": [
        "reviews.set_index(\"title\")\n",
        "reviews.loc[(reviews.country == 'Italy') & (reviews.points >= 90)]\n",
        "reviews.loc[reviews.country.isin(['Italy', 'France'])]\n",
        "reviews.loc[reviews.price.notnull()]"
      ]
    },
    {
      "cell_type": "code",
      "execution_count": null,
      "metadata": {
        "id": "zup5scX-u_zB"
      },
      "outputs": [],
      "source": [
        "#adding data\n",
        "reviews['critic'] = 'everyone'\n",
        "reviews['index_backwards'] = range(len(reviews), 0, -1)\n"
      ]
    },
    {
      "cell_type": "code",
      "execution_count": null,
      "metadata": {
        "id": "Yhqx7Y3Iu_zG"
      },
      "outputs": [],
      "source": [
        "reviews.points.describe()\n",
        "reviews.taster_name.describe()\n",
        "reviews.points.mean()\n",
        "reviews.taster_name.unique()\n"
      ]
    },
    {
      "cell_type": "code",
      "execution_count": null,
      "metadata": {
        "id": "j24dVBPOu_zJ"
      },
      "outputs": [],
      "source": [
        "#  list of unique values and how often they occur in the dataset\n",
        "reviews.taster_name.value_counts()\n",
        "# or\n",
        "reviews.groupby('points').points.count()\n",
        "\n",
        "\n",
        "reviews.points.mean()"
      ]
    },
    {
      "cell_type": "code",
      "execution_count": null,
      "metadata": {
        "id": "bceqMWX6u_zN"
      },
      "outputs": [],
      "source": [
        "# map and apply\n",
        "review_points_mean = reviews.points.mean()\n",
        "reviews.points.map(lambda p: p - review_points_mean)\n",
        "\n",
        "def remean_points(row):\n",
        "    row.points = row.points - row.points.mean()\n",
        "    return row\n",
        "\n",
        "reviews.apply(remean_points, axis='columns')#on each columns\n",
        "reviews.apply(remean_points, axis='index')#on each rows"
      ]
    },
    {
      "cell_type": "code",
      "execution_count": null,
      "metadata": {
        "id": "l6bVSK8Xu_zP"
      },
      "outputs": [],
      "source": [
        "bargain_idx = (reviews.points / reviews.price).idxmax()"
      ]
    },
    {
      "cell_type": "code",
      "execution_count": null,
      "metadata": {
        "id": "m4wHP0oIu_zP"
      },
      "outputs": [],
      "source": [
        "#  \"tropical\" or \"fruity\"?\n",
        "# Create a Series descriptor_counts counting how many times each of these two words\n",
        "# appears in the description column in the dataset. (For simplicity, let's\n",
        "# ignore the capitalized versions of these words.)\n",
        "\n",
        "n_trop = reviews.description.map(lambda desc: \"tropical\" in desc).sum()\n",
        "n_fruity = reviews.description.map(lambda desc: \"fruity\" in desc).sum()\n",
        "descriptor_counts = pd.Series([n_trop, n_fruity], index=['tropical', 'fruity'])"
      ]
    },
    {
      "cell_type": "code",
      "execution_count": null,
      "metadata": {
        "id": "MuedfPA9u_zQ"
      },
      "outputs": [],
      "source": [
        "# rating system ranging from 80 to 100 points is too hard to understand\n",
        "# - we'd like to translate them into simple star ratings. A score of 95\n",
        "# or higher counts as 3 stars, a score of at least 85 but less than 95 is\n",
        "# 2 stars. Any other score is 1 star.\n",
        "# Also, the Canadian Vintners Association bought a lot of ads on the site,\n",
        "# so any wines from Canada should automatically get 3 stars, regardless of points.\n",
        "def stars(row):\n",
        "    if row.country == 'Canada':\n",
        "        return 3\n",
        "    elif row.points >= 95:\n",
        "        return 3\n",
        "    elif row.points >= 85:\n",
        "        return 2\n",
        "    else:\n",
        "        return 1\n",
        "\n",
        "star_ratings = reviews.apply(stars, axis='columns')"
      ]
    },
    {
      "cell_type": "code",
      "execution_count": null,
      "metadata": {
        "id": "HTsMQ-pRu_zR"
      },
      "outputs": [],
      "source": [
        "reviews.groupby('points').price.min()\n",
        "# return min price that is available for \"each\" point"
      ]
    },
    {
      "cell_type": "code",
      "execution_count": null,
      "metadata": {
        "id": "Bc9ymUw9u_zR"
      },
      "outputs": [],
      "source": [
        "# What is the best wine I can buy for a given amount of money?(money from low to high)\n",
        "best_rating_per_price = reviews.groupby('price')['points'].max().sort_index()"
      ]
    },
    {
      "cell_type": "code",
      "execution_count": null,
      "metadata": {
        "id": "Rb5vdhRhu_zS"
      },
      "outputs": [],
      "source": [
        "# What are the minimum and maximum prices for each variety of wine?\n",
        "reviews.groupby('variety').price.agg([min, max])"
      ]
    },
    {
      "cell_type": "code",
      "execution_count": null,
      "metadata": {
        "id": "ceLpd_QCu_zT"
      },
      "outputs": [],
      "source": [
        "# What are the most expensive wine varieties?\n",
        "sorted_varieties = price_extremes.sort_values(by=['min', 'max'], ascending=False)"
      ]
    },
    {
      "cell_type": "code",
      "execution_count": null,
      "metadata": {
        "id": "jzCSkcrYu_zT"
      },
      "outputs": [],
      "source": [
        "# What combination of countries and varieties are most common?\n",
        "country_variety_counts = reviews.groupby(['country', 'variety']).size().sort_values(ascending=False)\n",
        "# solution:\n",
        "# country  variety\n",
        "# US       Pinot Noir                  9885\n",
        "#          Cabernet Sauvignon          7315\n",
        "#          Chardonnay                  6801\n",
        "# France   Bordeaux-style Red Blend    4725\n",
        "# Italy    Red Blend                   3624\n",
        "#                                      ...\n",
        "# Mexico   Cinsault                       1\n",
        "#          Grenache                       1\n",
        "#          Merlot                         1\n",
        "#          Rosado                         1\n",
        "# Uruguay  White Blend                    1\n",
        "# Length: 1612, dtype: int64"
      ]
    },
    {
      "cell_type": "code",
      "execution_count": null,
      "metadata": {
        "id": "kr9GVofhu_zU"
      },
      "outputs": [],
      "source": [
        "reviews.price.dtype\n",
        "# dtype('float64')\n",
        "reviews.points.astype('float64')\n",
        "reviews[pd.isnull(reviews.country)]\n",
        "reviews[pd.notnull(reviews.country)]\n",
        "reviews.region_2.fillna(\"Unknown\")\n",
        "reviews.taster_twitter_handle.replace(\"@kerinokeefe\", \"@kerino\")\n",
        "n_missing_prices  = reviews.price.isnull().sum()\n",
        "\n",
        "# finding most common regions\n",
        "reviews.region_1.fillna('Unknown').value_counts().sort_values(ascending=False)"
      ]
    },
    {
      "cell_type": "code",
      "execution_count": null,
      "metadata": {
        "id": "uGY9vHVXu_zV"
      },
      "outputs": [],
      "source": [
        "reviews.rename(columns={'points': 'score'})\n",
        "reviews.rename(index={0: 'firstEntry', 1: 'secondEntry'})\n",
        "# also set_index()\n",
        "# renaming main index axises:\n",
        "reviews.rename_axis(\"wines\", axis='rows').rename_axis(\"fields\", axis='columns')"
      ]
    },
    {
      "cell_type": "code",
      "execution_count": null,
      "metadata": {
        "id": "r6IPnnFPu_zW"
      },
      "outputs": [],
      "source": [
        "# combines:\n",
        "pd.concat([canadian_youtube, british_youtube])\n",
        "# join:\n",
        "left = canadian_youtube.set_index(['title', 'trending_date'])\n",
        "right = british_youtube.set_index(['title', 'trending_date'])\n",
        "\n",
        "left.join(right, lsuffix='_CAN', rsuffix='_UK')\n",
        "# another example: both tables have a column \"MeetID\"\n",
        "a=powerlifting_meets.set_index(\"MeetID\")\n",
        "b=powerlifting_competitors.set_index(\"MeetID\")\n",
        "powerlifting_combined = a.join(b)"
      ]
    },
    {
      "cell_type": "code",
      "execution_count": null,
      "metadata": {
        "id": "iaNKJnxlu_zW"
      },
      "outputs": [],
      "source": [
        "#region_1 and region_2  columns renamed to region and locale, respectively.\n",
        "reviews.rename(columns=dict(region_1='region', region_2='locale'))\n",
        "# Set the index name in the dataset to wines.\n",
        "reindexed = reviews.rename_axis('wines', axis='rows')\n"
      ]
    }
  ],
  "metadata": {
    "kernelspec": {
      "display_name": "P37",
      "language": "python",
      "name": "python3"
    },
    "language_info": {
      "codemirror_mode": {
        "name": "ipython",
        "version": 3
      },
      "file_extension": ".py",
      "mimetype": "text/x-python",
      "name": "python",
      "nbconvert_exporter": "python",
      "pygments_lexer": "ipython3",
      "version": "3.7.13"
    },
    "orig_nbformat": 4,
    "colab": {
      "provenance": []
    }
  },
  "nbformat": 4,
  "nbformat_minor": 0
}