{
  "nbformat": 4,
  "nbformat_minor": 0,
  "metadata": {
    "colab": {
      "provenance": [],
      "authorship_tag": "ABX9TyOd9Z2VCLJ00xLAbjU/sYD8"
    },
    "kernelspec": {
      "name": "python3",
      "display_name": "Python 3"
    },
    "language_info": {
      "name": "python"
    }
  },
  "cells": [
    {
      "cell_type": "markdown",
      "source": [
        "notebook for homework 2 of Course ADS2023.\n",
        "Group: Meyssam Rostamzadeh and Ali Sarmadi.\n"
      ],
      "metadata": {
        "id": "7mDvSVCArZCj"
      }
    },
    {
      "cell_type": "code",
      "execution_count": null,
      "metadata": {
        "id": "rpYXHQhmji7G"
      },
      "outputs": [],
      "source": []
    }
  ]
}